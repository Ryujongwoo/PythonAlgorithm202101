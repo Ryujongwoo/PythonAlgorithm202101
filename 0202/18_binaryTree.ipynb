{
 "cells": [
  {
   "cell_type": "code",
   "execution_count": 2,
   "id": "regular-valley",
   "metadata": {},
   "outputs": [
    {
     "data": {
      "image/png": "[encoded data removed]",
      "text/plain": [
       "<IPython.core.display.Image object>"
      ]
     },
     "execution_count": 2,
     "metadata": {
      "image/png": {
       "width": "1300"
      }
     },
     "output_type": "execute_result"
    }
   ],
   "source": [
    "from IPython.display import Image\n",
    "Image('./binaryTree_1.png', width = '1300')"
   ]
  },
  {
   "cell_type": "code",
   "execution_count": 87,
   "id": "light-print",
   "metadata": {},
   "outputs": [],
   "source": [
    "class BinaryTree:\n",
    "    # 생성자에서 이진 트리의 노드를 만든다.\n",
    "    def __init__(self, data = None):\n",
    "        self.left = None  # 왼쪽 자식 노드를 기억하는 포인터\n",
    "        self.data = data  # 데이터\n",
    "        self.right = None # 오른쪽 자식 노드를 기억하는 포인터\n",
    "        \n",
    "    # 트리에 데이터를 삽입하는 메소드\n",
    "    def insert(self, data):\n",
    "        # 트리에 삽입할 데이터 값과 부모 노드의 데이터 값을 비교해서 트리에 데이터가 삽입될 위치를 결정한다.\n",
    "        # 트리에 삽입할 데이터가 부모 노드의 데이터 보다 작으면 부모 노드의 왼쪽으로 삽입한다.\n",
    "        # 트리에 삽입할 데이터가 부모 노드의 데이터 보다 크면 부모 노드의 오른쪽으로 삽입한다.\n",
    "        print('트리에 삽입하려는 데이터 {}의 부모 노드 데이터는 {} 입니다.'.format(data, self.data))\n",
    "        \n",
    "        # 삽입하려는 데이터가 부모 데이터보다 작은가?\n",
    "        if data < self.data:\n",
    "            # 부모 노드의 왼쪽에 삽입한다.\n",
    "            print('부모 노드의 데이터가 크기 때문에 {}(는)은 부모 노드 {}의 왼쪽에 데이터를 삽입한다.'.format(data, \\\n",
    "                                                                              self.data))\n",
    "            # 부모 노드의 왼쪽 링크(self.left)가 비어(None)있어야 데이터를 삽입할 수 있다.\n",
    "            if self.left is None:\n",
    "                # 부모 노드의 왼쪽 링크가 비어있으므로 데이터를 추가한다.\n",
    "                print('부모({}) 노드 왼쪽에 {} 추가 가능'.format(self.data, data))\n",
    "                # 새 데이터를 추가해야 하므로 트리에 추가할 데이터로 BinaryTree 클래스 객체를 생성해서 부모 노드의 비어있는\n",
    "                # 왼쪽 링크에 넣어준다.\n",
    "                self.left = BinaryTree(data)\n",
    "                print('부모({}) 노드 왼쪽에 {} 추가 완료'.format(self.data, data))\n",
    "            else:\n",
    "                # 부모 노드의 왼쪽 링크가 비어있지 않기 때문에 데이터를 추가할 수 없다.\n",
    "                print('부모({}) 왼쪽에 이미 데이터 {}(이)가 있으므로 {} 추가 불가능'.format(self.data, \\\n",
    "                                                                       self.left.data, data))\n",
    "                print('부모({}) 왼쪽 노드 {}에서 insert() 메소드를 실행한다.'.format(self.data, self.left.data))\n",
    "                self.left.insert(data)\n",
    "            \n",
    "        # 삽입하려는 데이터가 부모 데이터보다 큰가?\n",
    "        elif data > self.data:\n",
    "            # 부모 노드의 오른쪽에 삽입한다.\n",
    "            print('부모 노드의 데이터가 작기 때문에 {}(는)은 부모 노드 {}의 오른쪽에 데이터를 삽입한다.'.format(data, \\\n",
    "                                                                               self.data))\n",
    "            # 부모 노드의 오른쪽 링크(self.right)가 비어(None)있어야 데이터를 삽입할 수 있다.\n",
    "            if self.right is None:\n",
    "                # 부모 노드의 오른쪽 링크가 비어있으므로 데이터를 추가한다.\n",
    "                print('부모({}) 노드 오른쪽에 {} 추가 가능'.format(self.data, data))\n",
    "                # 새 데이터를 추가해야 하므로 트리에 추가할 데이터로 BinaryTree 클래스 객체를 생성해서 부모 노드의 비어있는\n",
    "                # 오른쪽 링크에 넣어준다.\n",
    "                self.right = BinaryTree(data)\n",
    "                print('부모({}) 노드 오른쪽에 {} 추가 완료'.format(self.data, data))\n",
    "            else:\n",
    "                # 부모 노드의 오른쪽 링크가 비어있지 않기 때문에 데이터를 추가할 수 없다.\n",
    "                print('부모({}) 오른쪽에 이미 데이터 {}(이)가 있으므로 {} 추가 불가능'.format(self.data, \\\n",
    "                                                                        self.right.data, data))\n",
    "                print('부모({}) 오른쪽 노드 {}에서 insert() 메소드를 실행한다.'.format(self.data, self.right.data))\n",
    "                self.right.insert(data)\n",
    "        \n",
    "        # 삽입하려는 데이터가 부모 데이터가 같은가?\n",
    "        else:\n",
    "            print('{}는 트리에 존재하는 데이터 입니다.'.format(data))\n",
    "            \n",
    "    # 트리를 구성하는 노드 목록을 inorder 방식으로 운행(탐색)해서 출력하는 메소드\n",
    "    def inorder(self): # 실행 결과 : 3 => 6 => 10 => 12 => 15 => 20 => 25\n",
    "        # 왼쪽 자식 노드가 있나 검사한다. => left에 None이 아닌 무엇인가가 저장되어 있으면 True, 그렇치 않으면 False\n",
    "        if self.left:\n",
    "            self.left.inorder()\n",
    "        # 더 이상 자식 노드가 없으면 출력한다.\n",
    "        print(self.data, end = ' ')\n",
    "        # 오른쪽 자식 노드가 있나 검사한다. => right에 None이 아닌 무엇인가가 저장되어 있으면 True, 그렇치 않으면 False\n",
    "        if self.right:\n",
    "            self.right.inorder()\n",
    "            \n",
    "    # 트리를 구성하는 노드 목록을 preorder 방식으로 운행(탐색)해서 출력하는 메소드\n",
    "    def preorder(self): # 실행 결과 : 12 => 6 => 3 => 10 => 20 => 15 => 25\n",
    "        print(self.data, end = ' ')\n",
    "        if self.left:\n",
    "            self.left.preorder()\n",
    "        if self.right:\n",
    "            self.right.preorder()\n",
    "            \n",
    "    # 트리를 구성하는 노드 목록을 postorder 방식으로 운행(탐색)해서 출력하는 메소드\n",
    "    def postorder(self): # 실행 결과 : 3 => 10 => 6 => 15 => 25 => 20 => 12\n",
    "        if self.left:\n",
    "            self.left.postorder()\n",
    "        if self.right:\n",
    "            self.right.postorder()\n",
    "        print(self.data, end = ' ')"
   ]
  },
  {
   "cell_type": "code",
   "execution_count": 88,
   "id": "facial-bacteria",
   "metadata": {
    "scrolled": false
   },
   "outputs": [
    {
     "name": "stdout",
     "output_type": "stream",
     "text": [
      "트리에 삽입하려는 데이터 6의 부모 노드 데이터는 12 입니다.\n",
      "부모 노드의 데이터가 크기 때문에 6(는)은 부모 노드 12의 왼쪽에 데이터를 삽입한다.\n",
      "부모(12) 노드 왼쪽에 6 추가 가능\n",
      "부모(12) 노드 왼쪽에 6 추가 완료\n",
      "================================================================================\n",
      "트리에 삽입하려는 데이터 20의 부모 노드 데이터는 12 입니다.\n",
      "부모 노드의 데이터가 작기 때문에 20(는)은 부모 노드 12의 오른쪽에 데이터를 삽입한다.\n",
      "부모(12) 노드 오른쪽에 20 추가 가능\n",
      "부모(12) 노드 오른쪽에 20 추가 완료\n",
      "================================================================================\n",
      "트리에 삽입하려는 데이터 12의 부모 노드 데이터는 12 입니다.\n",
      "12는 트리에 존재하는 데이터 입니다.\n",
      "================================================================================\n",
      "트리에 삽입하려는 데이터 3의 부모 노드 데이터는 12 입니다.\n",
      "부모 노드의 데이터가 크기 때문에 3(는)은 부모 노드 12의 왼쪽에 데이터를 삽입한다.\n",
      "부모(12) 왼쪽에 이미 데이터 6(이)가 있으므로 3 추가 불가능\n",
      "부모(12) 왼쪽 노드 6에서 insert() 메소드를 실행한다.\n",
      "트리에 삽입하려는 데이터 3의 부모 노드 데이터는 6 입니다.\n",
      "부모 노드의 데이터가 크기 때문에 3(는)은 부모 노드 6의 왼쪽에 데이터를 삽입한다.\n",
      "부모(6) 노드 왼쪽에 3 추가 가능\n",
      "부모(6) 노드 왼쪽에 3 추가 완료\n",
      "================================================================================\n",
      "트리에 삽입하려는 데이터 25의 부모 노드 데이터는 12 입니다.\n",
      "부모 노드의 데이터가 작기 때문에 25(는)은 부모 노드 12의 오른쪽에 데이터를 삽입한다.\n",
      "부모(12) 오른쪽에 이미 데이터 20(이)가 있으므로 25 추가 불가능\n",
      "부모(12) 오른쪽 노드 20에서 insert() 메소드를 실행한다.\n",
      "트리에 삽입하려는 데이터 25의 부모 노드 데이터는 20 입니다.\n",
      "부모 노드의 데이터가 작기 때문에 25(는)은 부모 노드 20의 오른쪽에 데이터를 삽입한다.\n",
      "부모(20) 노드 오른쪽에 25 추가 가능\n",
      "부모(20) 노드 오른쪽에 25 추가 완료\n",
      "================================================================================\n",
      "트리에 삽입하려는 데이터 10의 부모 노드 데이터는 12 입니다.\n",
      "부모 노드의 데이터가 크기 때문에 10(는)은 부모 노드 12의 왼쪽에 데이터를 삽입한다.\n",
      "부모(12) 왼쪽에 이미 데이터 6(이)가 있으므로 10 추가 불가능\n",
      "부모(12) 왼쪽 노드 6에서 insert() 메소드를 실행한다.\n",
      "트리에 삽입하려는 데이터 10의 부모 노드 데이터는 6 입니다.\n",
      "부모 노드의 데이터가 작기 때문에 10(는)은 부모 노드 6의 오른쪽에 데이터를 삽입한다.\n",
      "부모(6) 노드 오른쪽에 10 추가 가능\n",
      "부모(6) 노드 오른쪽에 10 추가 완료\n",
      "================================================================================\n",
      "트리에 삽입하려는 데이터 15의 부모 노드 데이터는 12 입니다.\n",
      "부모 노드의 데이터가 작기 때문에 15(는)은 부모 노드 12의 오른쪽에 데이터를 삽입한다.\n",
      "부모(12) 오른쪽에 이미 데이터 20(이)가 있으므로 15 추가 불가능\n",
      "부모(12) 오른쪽 노드 20에서 insert() 메소드를 실행한다.\n",
      "트리에 삽입하려는 데이터 15의 부모 노드 데이터는 20 입니다.\n",
      "부모 노드의 데이터가 크기 때문에 15(는)은 부모 노드 20의 왼쪽에 데이터를 삽입한다.\n",
      "부모(20) 노드 왼쪽에 15 추가 가능\n",
      "부모(20) 노드 왼쪽에 15 추가 완료\n",
      "================================================================================\n"
     ]
    }
   ],
   "source": [
    "# 이진 트리의 root 노드를 만든다.\n",
    "root = BinaryTree(12)\n",
    "# 이진 트리에 데이터를 추가한다.\n",
    "root.insert(6)\n",
    "print('=' * 80)\n",
    "root.insert(20)\n",
    "print('=' * 80)\n",
    "root.insert(12)\n",
    "print('=' * 80)\n",
    "root.insert(3)\n",
    "print('=' * 80)\n",
    "root.insert(25)\n",
    "print('=' * 80)\n",
    "root.insert(10)\n",
    "print('=' * 80)\n",
    "root.insert(15)\n",
    "print('=' * 80)"
   ]
  },
  {
   "cell_type": "code",
   "execution_count": 89,
   "id": "suspended-alert",
   "metadata": {},
   "outputs": [
    {
     "data": {
      "image/png": "[encoded data removed]",
      "text/plain": [
       "<IPython.core.display.Image object>"
      ]
     },
     "execution_count": 89,
     "metadata": {
      "image/png": {
       "width": "600"
      }
     },
     "output_type": "execute_result"
    }
   ],
   "source": [
    "from IPython.display import Image\n",
    "Image('./binaryTree_2.png', width = '600')"
   ]
  },
  {
   "cell_type": "code",
   "execution_count": 90,
   "id": "crude-flour",
   "metadata": {},
   "outputs": [],
   "source": [
    "# 이진 트리 운행 - 같은 노드를 중복해서 방문하지 않고 모든 노드를 방문하는 방법 - 은 부모(root) 노드를 언제 방문하느냐에\n",
    "# 따라서 아래와 같이 3가지 방법이 있다.\n",
    "# inorder   : Left => Root => Right : 3 => 6 => 10 => 12 => 15 => 20 => 25 : 오름차순 정렬\n",
    "# preorder  : Root => Left => Right : 12 => 6 => 3 => 10 => 20 => 15 => 25\n",
    "# postorder : Left => Right => Root : 3 => 10 => 6 => 15 => 25 => 20 => 12"
   ]
  },
  {
   "cell_type": "code",
   "execution_count": 91,
   "id": "nonprofit-killer",
   "metadata": {},
   "outputs": [
    {
     "name": "stdout",
     "output_type": "stream",
     "text": [
      "3 6 10 12 15 20 25 \n",
      "12 6 3 10 20 15 25 \n",
      "3 10 6 15 25 20 12 "
     ]
    }
   ],
   "source": [
    "root.inorder()\n",
    "print()\n",
    "root.preorder()\n",
    "print()\n",
    "root.postorder()"
   ]
  },
  {
   "cell_type": "code",
   "execution_count": null,
   "id": "chemical-parliament",
   "metadata": {},
   "outputs": [],
   "source": []
  },
  {
   "cell_type": "code",
   "execution_count": null,
   "id": "composed-assist",
   "metadata": {},
   "outputs": [],
   "source": []
  },
  {
   "cell_type": "code",
   "execution_count": null,
   "id": "ordinary-yesterday",
   "metadata": {},
   "outputs": [],
   "source": []
  },
  {
   "cell_type": "code",
   "execution_count": null,
   "id": "speaking-ecology",
   "metadata": {},
   "outputs": [],
   "source": []
  },
  {
   "cell_type": "code",
   "execution_count": null,
   "id": "wound-uruguay",
   "metadata": {},
   "outputs": [],
   "source": []
  },
  {
   "cell_type": "code",
   "execution_count": null,
   "id": "local-luther",
   "metadata": {},
   "outputs": [],
   "source": []
  },
  {
   "cell_type": "code",
   "execution_count": null,
   "id": "periodic-flour",
   "metadata": {},
   "outputs": [],
   "source": []
  }
 ],
 "metadata": {
  "kernelspec": {
   "display_name": "Python 3",
   "language": "python",
   "name": "python3"
  },
  "language_info": {
   "codemirror_mode": {
    "name": "ipython",
    "version": 3
   },
   "file_extension": ".py",
   "mimetype": "text/x-python",
   "name": "python",
   "nbconvert_exporter": "python",
   "pygments_lexer": "ipython3",
   "version": "3.6.8"
  }
 },
 "nbformat": 4,
 "nbformat_minor": 5
}
