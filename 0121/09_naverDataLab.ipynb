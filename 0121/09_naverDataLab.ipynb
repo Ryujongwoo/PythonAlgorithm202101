{
 "cells": [
  {
   "cell_type": "code",
   "execution_count": 1,
   "metadata": {},
   "outputs": [],
   "source": [
    "import warnings\n",
    "warnings.filterwarnings('ignore')\n",
    "import requests\n",
    "from bs4 import BeautifulSoup\n",
    "h = {'User-agent': 'Mozilla/5.0 (Windows NT 6.1; WOW64; Trident/7.0; rv:11.0) like Gecko'}"
   ]
  },
  {
   "cell_type": "code",
   "execution_count": 2,
   "metadata": {},
   "outputs": [
    {
     "name": "stdout",
     "output_type": "stream",
     "text": [
      "dict_keys(['1', '2', '3', '4', '5', '6'])\n",
      "https://datalab.naver.com/keyword/realtimeList.naver?age=10s&entertainment=0&groupingLevel=2&marketing=0&news=0&sports=0&where=main\n",
      "https://datalab.naver.com/keyword/realtimeList.naver?age=20s&entertainment=0&groupingLevel=2&marketing=0&news=0&sports=0&where=main\n",
      "https://datalab.naver.com/keyword/realtimeList.naver?age=30s&entertainment=0&groupingLevel=2&marketing=0&news=0&sports=0&where=main\n",
      "https://datalab.naver.com/keyword/realtimeList.naver?age=40s&entertainment=0&groupingLevel=2&marketing=0&news=0&sports=0&where=main\n",
      "https://datalab.naver.com/keyword/realtimeList.naver?age=50s&entertainment=0&groupingLevel=2&marketing=0&news=0&sports=0&where=main\n",
      "https://datalab.naver.com/keyword/realtimeList.naver?age=all&entertainment=0&groupingLevel=2&marketing=0&news=0&sports=0&where=main\n"
     ]
    }
   ],
   "source": [
    "# https://datalab.naver.com/keyword/realtimeList.naver\n",
    "#    ?age=10s&entertainment=0&groupingLevel=2&marketing=0&news=0&sports=0&where=main # 10대\n",
    "# https://datalab.naver.com/keyword/realtimeList.naver\n",
    "#    ?age=20s&entertainment=0&groupingLevel=2&marketing=0&news=0&sports=0&where=main # 20대\n",
    "# https://datalab.naver.com/keyword/realtimeList.naver\n",
    "#    ?age=30s&entertainment=0&groupingLevel=2&marketing=0&news=0&sports=0&where=main # 30대\n",
    "# https://datalab.naver.com/keyword/realtimeList.naver\n",
    "#    ?age=40s&entertainment=0&groupingLevel=2&marketing=0&news=0&sports=0&where=main # 40대\n",
    "# https://datalab.naver.com/keyword/realtimeList.naver\n",
    "#    ?age=50s&entertainment=0&groupingLevel=2&marketing=0&news=0&sports=0&where=main # 50대\n",
    "# https://datalab.naver.com/keyword/realtimeList.naver\n",
    "#    ?age=all&entertainment=0&groupingLevel=2&marketing=0&news=0&sports=0&where=main # 전체\n",
    "ageList = {'1': '10s', '2': '20s', '3': '30s', '4': '40s', '5': '50s', '6': 'all'}\n",
    "url1 = 'https://datalab.naver.com/keyword/realtimeList.naver?age='\n",
    "url2 = '&entertainment=0&groupingLevel=2&marketing=0&news=0&sports=0&where=main'\n",
    "print(ageList.keys())\n",
    "for key in ageList.keys():\n",
    "    print('{}{}{}'.format(url1, ageList[key], url2))"
   ]
  },
  {
   "cell_type": "code",
   "execution_count": 3,
   "metadata": {
    "scrolled": false
   },
   "outputs": [
    {
     "name": "stdout",
     "output_type": "stream",
     "text": [
      "연령대를 입력하세요(1 => 10대, 2 => 20대, 3 => 30대, 4 => 40대, 5 => 50대, 6 => 전체) : 1\n",
      " 1위 : 조재범\n",
      " 2위 : 심석희\n",
      " 3위 : t1 젠지\n",
      " 4위 : 쿠키런 킹덤\n",
      " 5위 : 엠카운트다운\n",
      " 6위 : 7일만 로맨스2\n",
      " 7위 : 걸캅스\n",
      " 8위 : 신비아파트 고스트볼 더블x 수상한 의뢰\n",
      " 9위 : 캡틴\n",
      "10위 : 명량\n",
      "11위 : 숲나학교\n",
      "12위 : 류화영\n",
      "13위 : 김민기\n",
      "14위 : 연애혁명\n",
      "15위 : 병무청\n",
      "16위 : 범인은 바로 너 시즌3\n",
      "17위 : cto 프로젝트\n",
      "18위 : 힘을내요 미스터리\n",
      "19위 : 여신강림 드라마\n",
      "20위 : 탐니크\n"
     ]
    }
   ],
   "source": [
    "# 연령대별 실시간 급상승 검색어만 크롤링\n",
    "ageList = {'1': '10s', '2': '20s', '3': '30s', '4': '40s', '5': '50s', '6': 'all'}\n",
    "url1 = 'https://datalab.naver.com/keyword/realtimeList.naver?age='\n",
    "url2 = '&entertainment=0&groupingLevel=2&marketing=0&news=0&sports=0&where=main'\n",
    "key = input('연령대를 입력하세요(1 => 10대, 2 => 20대, 3 => 30대, 4 => 40대, 5 => 50대, 6 => 전체) : ')\n",
    "targetSite = '{}{}{}'.format(url1, ageList[key], url2)\n",
    "# print(targetSite)\n",
    "\n",
    "request = requests.get(targetSite, headers = h)\n",
    "# print(request)\n",
    "html = request.text\n",
    "soup = BeautifulSoup(html)\n",
    "# print(soup)\n",
    "\n",
    "titles = soup.findAll('span', {'class': 'item_title'})\n",
    "for i in range(len(titles)):\n",
    "    print('{0:2d}위 : {1}'.format(i + 1, titles[i].text))"
   ]
  },
  {
   "cell_type": "code",
   "execution_count": 20,
   "metadata": {},
   "outputs": [
    {
     "name": "stdout",
     "output_type": "stream",
     "text": [
      "연령대를 입력하세요(1 => 10대, 2 => 20대, 3 => 30대, 4 => 40대, 5 => 50대, 6 => 전체) : 1\n",
      " 1위 : 심석희 \n",
      " 2위 : 조재범 \n",
      " 3위 : t1 젠지 ['t1']\n",
      " 4위 : 쿠키런 킹덤 ['쿠키런 킹덤 쿠폰', '쿠키런 킹덤 사전예약']\n",
      " 5위 : 캡틴 ['엠넷 캡틴', '엠넷 캡틴 투표']\n",
      " 6위 : 걸캅스 \n",
      " 7위 : 7일만 로맨스2 \n",
      " 8위 : 엠카운트다운 \n",
      " 9위 : 신비아파트 고스트볼 더블x 수상한 의뢰 \n",
      "10위 : 숲나학교 \n",
      "11위 : 연애혁명 \n",
      "12위 : 힘을내요 미스터리 \n",
      "13위 : 김민기 \n",
      "14위 : 병무청 \n",
      "15위 : 탐니크 \n",
      "16위 : 범인은 바로 너 시즌3 \n",
      "17위 : 정우연 \n",
      "18위 : 환생테스트 \n",
      "19위 : 여신강림 드라마 ['여신강림 몇부작']\n",
      "20위 : 맛남의 광장 방탄 \n"
     ]
    }
   ],
   "source": [
    "# 연령대별 실시간 급상승 검색어와 이슈별 묶어보기 크롤링\n",
    "ageList = {'1': '10s', '2': '20s', '3': '30s', '4': '40s', '5': '50s', '6': 'all'}\n",
    "url1 = 'https://datalab.naver.com/keyword/realtimeList.naver?age='\n",
    "url2 = '&entertainment=0&groupingLevel=2&marketing=0&news=0&sports=0&where=main'\n",
    "key = input('연령대를 입력하세요(1 => 10대, 2 => 20대, 3 => 30대, 4 => 40대, 5 => 50대, 6 => 전체) : ')\n",
    "targetSite = '{}{}{}'.format(url1, ageList[key], url2)\n",
    "\n",
    "request = requests.get(targetSite, headers = h)\n",
    "html = request.text\n",
    "soup = BeautifulSoup(html)\n",
    "\n",
    "ranks = soup.findAll('li', {'class': 'ranking_item'})\n",
    "# print(len(ranks))\n",
    "# print(ranks[5])\n",
    "dataLab = []\n",
    "for rank in ranks:\n",
    "    # print(rank.find('span', {'class': 'item_title'}).text)\n",
    "    title = rank.find('span', {'class': 'item_title'}).text\n",
    "    # print(title)\n",
    "    subTitle = []\n",
    "    try:\n",
    "        # print(rank.find('span', {'class': 'item_title_sub'}).text.split(','))\n",
    "        subs = rank.find('span', {'class': 'item_title_sub'}).text.split(',')\n",
    "        for sub in subs:\n",
    "            # print(sub.strip())\n",
    "            subTitle.append(sub.strip())\n",
    "    except:\n",
    "        pass\n",
    "    # print(subTitle)\n",
    "    dataLab.append([title, subTitle])\n",
    "    \n",
    "# print(dataLab)\n",
    "for i in range(len(titles)):\n",
    "    print('{0:2d}위 : {1} {2}'.format(i + 1, dataLab[i][0], dataLab[i][1] if len(dataLab[i][1]) != 0 else ''))"
   ]
  },
  {
   "cell_type": "code",
   "execution_count": null,
   "metadata": {},
   "outputs": [],
   "source": []
  },
  {
   "cell_type": "code",
   "execution_count": null,
   "metadata": {},
   "outputs": [],
   "source": []
  },
  {
   "cell_type": "code",
   "execution_count": null,
   "metadata": {},
   "outputs": [],
   "source": []
  },
  {
   "cell_type": "code",
   "execution_count": null,
   "metadata": {},
   "outputs": [],
   "source": []
  },
  {
   "cell_type": "code",
   "execution_count": null,
   "metadata": {},
   "outputs": [],
   "source": []
  },
  {
   "cell_type": "code",
   "execution_count": null,
   "metadata": {},
   "outputs": [],
   "source": []
  },
  {
   "cell_type": "code",
   "execution_count": null,
   "metadata": {},
   "outputs": [],
   "source": []
  },
  {
   "cell_type": "code",
   "execution_count": null,
   "metadata": {},
   "outputs": [],
   "source": []
  },
  {
   "cell_type": "code",
   "execution_count": null,
   "metadata": {},
   "outputs": [],
   "source": []
  }
 ],
 "metadata": {
  "kernelspec": {
   "display_name": "Python 3",
   "language": "python",
   "name": "python3"
  },
  "language_info": {
   "codemirror_mode": {
    "name": "ipython",
    "version": 3
   },
   "file_extension": ".py",
   "mimetype": "text/x-python",
   "name": "python",
   "nbconvert_exporter": "python",
   "pygments_lexer": "ipython3",
   "version": "3.6.8"
  }
 },
 "nbformat": 4,
 "nbformat_minor": 4
}
